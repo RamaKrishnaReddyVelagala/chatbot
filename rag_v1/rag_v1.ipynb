{
 "cells": [
  {
   "cell_type": "code",
   "execution_count": 50,
   "metadata": {},
   "outputs": [],
   "source": [
    "# Installing libs.\n",
    "# !pip install pinecone-client\n",
    "# !pip install tqdm\n",
    "# !pip install pandas\n",
    "# !pip install openai\n",
    "# !pip install langchain\n",
    "# !pip install python-dotenv\n",
    "# !pip install tiktoken"
   ]
  },
  {
   "cell_type": "code",
   "execution_count": 69,
   "metadata": {},
   "outputs": [],
   "source": [
    "# Base Python data handling environment imports \n",
    "import pandas as pd\n",
    "import os\n",
    "from tqdm.auto import tqdm\n",
    "import time\n",
    "\n",
    "# Pinecone is a cloud-based Vector Database we'll use \n",
    "# to store embeddings\n",
    "from pinecone import Pinecone as pc, ServerlessSpec\n",
    "\n",
    "# OpenAI is used for the embedding LLM and GenAI model \n",
    "# used to generate responses\n",
    "import openai\n",
    "\n",
    "# Langchain is middleware that ties together the components \n",
    "# of the embedding and retrieval pipelines \n",
    "\n",
    "# The embedding chain creates searchable vectors of our data\n",
    "from langchain.embeddings.openai import OpenAIEmbeddings\n",
    "from langchain.vectorstores import Pinecone as lang_pine\n",
    "\n",
    "# A link in the chain to operate a chat session\n",
    "from langchain.chat_models import ChatOpenAI\n",
    "\n",
    "# We'll maintain some memory of the chat so follow-up questions\n",
    "# will be context-sensitive\n",
    "from langchain.chains.conversation.memory \\\n",
    "import ConversationBufferWindowMemory\n",
    "from langchain.chains import RetrievalQA"
   ]
  },
  {
   "cell_type": "code",
   "execution_count": 54,
   "metadata": {},
   "outputs": [
    {
     "name": "stdout",
     "output_type": "stream",
     "text": [
      "gpt-3.5-turbo\n",
      "us-west2-aws\n"
     ]
    }
   ],
   "source": [
    "from dotenv  import load_dotenv\n",
    "import os\n",
    "\n",
    "# Load environment variables from .env file\n",
    "load_dotenv()\n",
    "\n",
    "# Access your environment variables\n",
    "\n",
    "OPENAI_KEY=os.getenv(\"OPENAI_KEY\")\n",
    "openai.api_key = OPENAI_KEY\n",
    "EMBEDDING_MODEL=os.getenv(\"EMBEDDING_MODEL\")\n",
    "GENAI_MODEL=os.getenv(\"GENAI_MODEL\")\n",
    "# too poor to run GPT 4 :)\n",
    "\n",
    "PINECONE_KEY=os.getenv(\"PINECONE_KEY\")\n",
    "PINECONE_ENV=os.getenv(\"PINECONE_ENV\")\n",
    "PINECONE_INDEX_NAME=\"default\"\n",
    "\n",
    "print(GENAI_MODEL)\n",
    "print(PINECONE_ENV)"
   ]
  },
  {
   "cell_type": "markdown",
   "metadata": {},
   "source": [
    "Read input Data"
   ]
  },
  {
   "cell_type": "code",
   "execution_count": 55,
   "metadata": {},
   "outputs": [],
   "source": [
    "URL = \"https://rhkdemo.blob.core.windows.net/demodata/squad-content.tsv\"\n",
    "df = pd.read_csv(URL, sep='\\t')\n"
   ]
  },
  {
   "cell_type": "code",
   "execution_count": 56,
   "metadata": {},
   "outputs": [
    {
     "data": {
      "text/html": [
       "<div>\n",
       "<style scoped>\n",
       "    .dataframe tbody tr th:only-of-type {\n",
       "        vertical-align: middle;\n",
       "    }\n",
       "\n",
       "    .dataframe tbody tr th {\n",
       "        vertical-align: top;\n",
       "    }\n",
       "\n",
       "    .dataframe thead th {\n",
       "        text-align: right;\n",
       "    }\n",
       "</style>\n",
       "<table border=\"1\" class=\"dataframe\">\n",
       "  <thead>\n",
       "    <tr style=\"text-align: right;\">\n",
       "      <th></th>\n",
       "      <th>Unnamed: 0</th>\n",
       "      <th>id</th>\n",
       "      <th>subject</th>\n",
       "      <th>context</th>\n",
       "    </tr>\n",
       "  </thead>\n",
       "  <tbody>\n",
       "    <tr>\n",
       "      <th>0</th>\n",
       "      <td>0</td>\n",
       "      <td>5733be284776f41900661182</td>\n",
       "      <td>University_of_Notre_Dame</td>\n",
       "      <td>Architecturally, the school has a Catholic cha...</td>\n",
       "    </tr>\n",
       "    <tr>\n",
       "      <th>1</th>\n",
       "      <td>1</td>\n",
       "      <td>5733bf84d058e614000b61be</td>\n",
       "      <td>University_of_Notre_Dame</td>\n",
       "      <td>As at most other universities, Notre Dame's st...</td>\n",
       "    </tr>\n",
       "    <tr>\n",
       "      <th>2</th>\n",
       "      <td>2</td>\n",
       "      <td>5733bed24776f41900661188</td>\n",
       "      <td>University_of_Notre_Dame</td>\n",
       "      <td>The university is the major seat of the Congre...</td>\n",
       "    </tr>\n",
       "    <tr>\n",
       "      <th>3</th>\n",
       "      <td>3</td>\n",
       "      <td>5733a6424776f41900660f51</td>\n",
       "      <td>University_of_Notre_Dame</td>\n",
       "      <td>The College of Engineering was established in ...</td>\n",
       "    </tr>\n",
       "    <tr>\n",
       "      <th>4</th>\n",
       "      <td>4</td>\n",
       "      <td>5733a70c4776f41900660f64</td>\n",
       "      <td>University_of_Notre_Dame</td>\n",
       "      <td>All of Notre Dame's undergraduate students are...</td>\n",
       "    </tr>\n",
       "  </tbody>\n",
       "</table>\n",
       "</div>"
      ],
      "text/plain": [
       "   Unnamed: 0                        id                   subject  \\\n",
       "0           0  5733be284776f41900661182  University_of_Notre_Dame   \n",
       "1           1  5733bf84d058e614000b61be  University_of_Notre_Dame   \n",
       "2           2  5733bed24776f41900661188  University_of_Notre_Dame   \n",
       "3           3  5733a6424776f41900660f51  University_of_Notre_Dame   \n",
       "4           4  5733a70c4776f41900660f64  University_of_Notre_Dame   \n",
       "\n",
       "                                             context  \n",
       "0  Architecturally, the school has a Catholic cha...  \n",
       "1  As at most other universities, Notre Dame's st...  \n",
       "2  The university is the major seat of the Congre...  \n",
       "3  The College of Engineering was established in ...  \n",
       "4  All of Notre Dame's undergraduate students are...  "
      ]
     },
     "execution_count": 56,
     "metadata": {},
     "output_type": "execute_result"
    }
   ],
   "source": [
    "df.head()\n",
    "# df.shape"
   ]
  },
  {
   "cell_type": "code",
   "execution_count": 66,
   "metadata": {},
   "outputs": [
    {
     "name": "stdout",
     "output_type": "stream",
     "text": [
      "subject\n",
      "London    77\n",
      "Name: count, dtype: int64\n"
     ]
    },
    {
     "data": {
      "text/html": [
       "<div>\n",
       "<style scoped>\n",
       "    .dataframe tbody tr th:only-of-type {\n",
       "        vertical-align: middle;\n",
       "    }\n",
       "\n",
       "    .dataframe tbody tr th {\n",
       "        vertical-align: top;\n",
       "    }\n",
       "\n",
       "    .dataframe thead th {\n",
       "        text-align: right;\n",
       "    }\n",
       "</style>\n",
       "<table border=\"1\" class=\"dataframe\">\n",
       "  <thead>\n",
       "    <tr style=\"text-align: right;\">\n",
       "      <th></th>\n",
       "      <th>Unnamed: 0</th>\n",
       "      <th>id</th>\n",
       "      <th>subject</th>\n",
       "      <th>context</th>\n",
       "    </tr>\n",
       "  </thead>\n",
       "  <tbody>\n",
       "    <tr>\n",
       "      <th>10043</th>\n",
       "      <td>10043</td>\n",
       "      <td>5726651c5951b619008f717f</td>\n",
       "      <td>London</td>\n",
       "      <td>London i/ˈlʌndən/ is the capital and most popu...</td>\n",
       "    </tr>\n",
       "    <tr>\n",
       "      <th>10044</th>\n",
       "      <td>10044</td>\n",
       "      <td>57266689f1498d1400e8de68</td>\n",
       "      <td>London</td>\n",
       "      <td>London is a leading global city, with strength...</td>\n",
       "    </tr>\n",
       "    <tr>\n",
       "      <th>10045</th>\n",
       "      <td>10045</td>\n",
       "      <td>57266847f1498d1400e8dea4</td>\n",
       "      <td>London</td>\n",
       "      <td>London has a diverse range of peoples and cult...</td>\n",
       "    </tr>\n",
       "    <tr>\n",
       "      <th>10046</th>\n",
       "      <td>10046</td>\n",
       "      <td>57266952f1498d1400e8ded4</td>\n",
       "      <td>London</td>\n",
       "      <td>London contains four World Heritage Sites: the...</td>\n",
       "    </tr>\n",
       "    <tr>\n",
       "      <th>10047</th>\n",
       "      <td>10047</td>\n",
       "      <td>5727c4f12ca10214002d95dc</td>\n",
       "      <td>London</td>\n",
       "      <td>From 1898, it was commonly accepted that the n...</td>\n",
       "    </tr>\n",
       "  </tbody>\n",
       "</table>\n",
       "</div>"
      ],
      "text/plain": [
       "       Unnamed: 0                        id subject  \\\n",
       "10043       10043  5726651c5951b619008f717f  London   \n",
       "10044       10044  57266689f1498d1400e8de68  London   \n",
       "10045       10045  57266847f1498d1400e8dea4  London   \n",
       "10046       10046  57266952f1498d1400e8ded4  London   \n",
       "10047       10047  5727c4f12ca10214002d95dc  London   \n",
       "\n",
       "                                                 context  \n",
       "10043  London i/ˈlʌndən/ is the capital and most popu...  \n",
       "10044  London is a leading global city, with strength...  \n",
       "10045  London has a diverse range of peoples and cult...  \n",
       "10046  London contains four World Heritage Sites: the...  \n",
       "10047  From 1898, it was commonly accepted that the n...  "
      ]
     },
     "execution_count": 66,
     "metadata": {},
     "output_type": "execute_result"
    }
   ],
   "source": [
    "filtered_df = df.loc[df['subject'].isin(['London'])]\n",
    "print(filtered_df['subject'].value_counts())\n",
    "filtered_df.head()"
   ]
  },
  {
   "cell_type": "markdown",
   "metadata": {},
   "source": [
    "Create a Vector DB"
   ]
  },
  {
   "cell_type": "code",
   "execution_count": 71,
   "metadata": {},
   "outputs": [
    {
     "name": "stdout",
     "output_type": "stream",
     "text": [
      "{'dimension': 1536,\n",
      " 'host': 'quickstart-7na8j7z.svc.aped-4627-b74a.pinecone.io',\n",
      " 'metric': 'dotproduct',\n",
      " 'name': 'quickstart',\n",
      " 'spec': {'serverless': {'cloud': 'aws', 'region': 'us-east-1'}},\n",
      " 'status': {'ready': True, 'state': 'Ready'}}\n"
     ]
    }
   ],
   "source": [
    "#initialize pine cone\n",
    "pc = pc(api_key=PINECONE_KEY)\n",
    "\n",
    "index_list = pc.list_indexes()\n",
    "if len(index_list) == 0:\n",
    "    print(\"Creating index...\")\n",
    "    pc.create_index(\n",
    "    name=\"quickstart\",\n",
    "    dimension=1536, \n",
    "    metric=\"dotproduct\",\n",
    "    spec=ServerlessSpec(\n",
    "        cloud=\"aws\",\n",
    "        region=\"us-east-1\"\n",
    "    ) \n",
    ")\n",
    "    \n",
    "print(pc.describe_index(\"quickstart\"))\n",
    "index = pc.Index(\"quickstart\")"
   ]
  },
  {
   "cell_type": "code",
   "execution_count": 70,
   "metadata": {},
   "outputs": [],
   "source": [
    "embed = OpenAIEmbeddings(\n",
    "    model = EMBEDDING_MODEL,\n",
    "    openai_api_key= OPENAI_KEY)"
   ]
  },
  {
   "cell_type": "code",
   "execution_count": 72,
   "metadata": {},
   "outputs": [
    {
     "name": "stderr",
     "output_type": "stream",
     "text": [
      "100%|██████████| 4/4 [00:47<00:00, 11.96s/it]\n"
     ]
    }
   ],
   "source": [
    "batch_size = 20 \n",
    "\n",
    "for i in tqdm(range(0, len(filtered_df), batch_size)):\n",
    "    \n",
    "    # OpenAPI has rate limits, and we use batches to slow the pace of embedding requests\n",
    "    i_end = min(i+batch_size, len(filtered_df))\n",
    "    batch = filtered_df.iloc[i:i_end]\n",
    "    # print(batch)\n",
    "    # When querying the Vector DB for nearest vectors, the metadata \n",
    "    # is what is returned and added to the LLM Prompt (the \"Grounding Knowledge\")\n",
    "    meta_data = [{\"subject\" : row['subject'], \n",
    "              \"context\": row['context']} \n",
    "             for i, row in batch.iterrows()]\n",
    "    \n",
    "    # Get a list of documents to submit to OpenAI for embedding  \n",
    "    docs = batch['context'].tolist() \n",
    "    emb_vectors = embed.embed_documents(docs) \n",
    "    # print(i, \"hurry\")\n",
    "    # The original ID keys are used as the PK in the Vector DB\n",
    "    ids = batch['id'].tolist()\n",
    "    \n",
    "    # Add embeddings, associated metadata, and the keys to the vector DB\n",
    "    to_upsert = zip(ids, emb_vectors, meta_data)    \n",
    "    index.upsert(vectors=to_upsert)\n",
    "    \n",
    "    # Pause for 10 seconds after each batch to avoid rate limits\n",
    "    time.sleep(10) "
   ]
  },
  {
   "cell_type": "code",
   "execution_count": 62,
   "metadata": {},
   "outputs": [
    {
     "data": {
      "text/plain": [
       "[Document(page_content=\"In 1986, Michael Dell brought in Lee Walker, a 51-year-old venture capitalist, as president and chief operating officer, to serve as Michael's mentor and implement Michael's ideas for growing the company. Walker was also instrumental in recruiting members to the board of directors when the company went public in 1988. Walker retired in 1990 due to health, and Michael Dell hired Morton Meyerson, former CEO and president of Electronic Data Systems to transform the company from a fast-growing medium-sized firm into a billion-dollar enterprise.\", metadata={'subject': 'Dell'}),\n",
       " Document(page_content=\"Dell traces its origins to 1984, when Michael Dell created Dell Computer Corporation, which at the time did business as PC's Limited, while a student of the University of Texas at Austin. The dorm-room headquartered company sold IBM PC-compatible computers built from stock components. Dell dropped out of school to focus full-time on his fledgling business, after getting $1,000 in expansion-capital from his family. In 1985, the company produced the first computer of its own design, the Turbo PC, which sold for $795. PC's Limited advertised its systems in national computer magazines for sale directly to consumers and custom assembled each ordered unit according to a selection of options. The company grossed more than $73 million in its first year of operation.\", metadata={'subject': 'Dell'}),\n",
       " Document(page_content=\"Dell had a reputation as a company that relied upon supply chain efficiencies to sell established technologies at low prices, instead of being an innovator. By the mid-2000s many analysts were looking to innovating companies as the next source of growth in the technology sector. Dell's low spending on R&D relative to its revenue (compared to IBM, Hewlett Packard, and Apple Inc.)—which worked well in the commoditized PC market—prevented it from making inroads into more lucrative segments, such as MP3 players and later mobile devices. Increasing spending on R&D would have cut into the operating margins that the company emphasized. Dell had done well with a horizontal organization that focused on PCs when the computing industry moved to horizontal mix-and-match layers in the 1980s, but by the mid-2000 the industry shifted to vertically integrated stacks to deliver complete IT solutions and Dell lagged far behind competitors like Hewlett Packard and Oracle.\", metadata={'subject': 'Dell'})]"
      ]
     },
     "execution_count": 62,
     "metadata": {},
     "output_type": "execute_result"
    }
   ],
   "source": [
    "vectorstore = lang_pine(index, embed, \"context\")\n",
    "query = \"Who founded Dell?\" #ask some question that's answerable with the content added to the Vector DB\n",
    "vectorstore.similarity_search(query, k=3)"
   ]
  },
  {
   "cell_type": "code",
   "execution_count": 63,
   "metadata": {},
   "outputs": [
    {
     "name": "stderr",
     "output_type": "stream",
     "text": [
      "C:\\Users\\kittu\\AppData\\Local\\Packages\\PythonSoftwareFoundation.Python.3.12_qbz5n2kfra8p0\\LocalCache\\local-packages\\Python312\\site-packages\\langchain_core\\_api\\deprecation.py:117: LangChainDeprecationWarning: The class `langchain_community.chat_models.openai.ChatOpenAI` was deprecated in langchain-community 0.0.10 and will be removed in 0.2.0. An updated version of the class exists in the langchain-openai package and should be used instead. To use it run `pip install -U langchain-openai` and import as `from langchain_openai import ChatOpenAI`.\n",
      "  warn_deprecated(\n"
     ]
    }
   ],
   "source": [
    "# Create a reference to the OpenAI LLM\n",
    "llm = ChatOpenAI(openai_api_key = OPENAI_KEY,\n",
    "                model_name = GENAI_MODEL,\n",
    "                temperature = 0.0)\n",
    "\n",
    "# Ensure the chat session includes memory of 5 previous messages\n",
    "conv_mem = ConversationBufferWindowMemory(\n",
    "    memory_key = 'history',\n",
    "    k = 5,\n",
    "    return_messages =True)\n",
    "\n",
    "# Create the chain to manage the chat session\n",
    "qa = RetrievalQA.from_chain_type(\n",
    "    llm = llm,\n",
    "    chain_type = \"stuff\",\n",
    "    retriever = vectorstore.as_retriever())"
   ]
  },
  {
   "cell_type": "code",
   "execution_count": 73,
   "metadata": {},
   "outputs": [
    {
     "data": {
      "text/plain": [
       "\"People like London for its diverse range of strengths and attractions. Some of the key aspects that people appreciate about London include its vibrant arts scene, strong presence in commerce and finance, world-class education institutions, rich cultural heritage, iconic landmarks, extensive entertainment options, diverse fashion scene, top-notch healthcare facilities, bustling media industry, and efficient transport system. Additionally, London's status as a leading global city, its historical significance, and its reputation as a top tourist destination contribute to its appeal for many people.\""
      ]
     },
     "execution_count": 73,
     "metadata": {},
     "output_type": "execute_result"
    }
   ],
   "source": [
    "qa.run(\"What do people like about london?\")"
   ]
  },
  {
   "cell_type": "code",
   "execution_count": 74,
   "metadata": {},
   "outputs": [
    {
     "data": {
      "text/plain": [
       "'Yes, it is expensive to live in London. London is known for having one of the highest property prices in Europe, with the average price per square meter in central London being significantly higher than other G8 European capital cities. Additionally, London is considered one of the most expensive cities in the world, alongside cities like Tokyo and Moscow. The cost of living in London, including housing, transportation, and other expenses, is generally high compared to many other cities.'"
      ]
     },
     "execution_count": 74,
     "metadata": {},
     "output_type": "execute_result"
    }
   ],
   "source": [
    "qa.run(\"is it expensive to live there?\")"
   ]
  },
  {
   "cell_type": "code",
   "execution_count": 75,
   "metadata": {},
   "outputs": [
    {
     "data": {
      "text/plain": [
       "'No, Dell does not manufacture surfboards. Dell is primarily known for selling personal computers, servers, data storage devices, and other technology-related products.'"
      ]
     },
     "execution_count": 75,
     "metadata": {},
     "output_type": "execute_result"
    }
   ],
   "source": [
    "qa.run(\"Does dell make surfboards?\")"
   ]
  },
  {
   "cell_type": "code",
   "execution_count": 76,
   "metadata": {},
   "outputs": [
    {
     "data": {
      "text/plain": [
       "'Yes, Dell makes laptops. They assemble 95% of Dell notebooks in their facilities in Penang, Malaysia, and Xiamen, China. Dell is known for its range of laptops, including the XPS line of notebooks.'"
      ]
     },
     "execution_count": 76,
     "metadata": {},
     "output_type": "execute_result"
    }
   ],
   "source": [
    "qa.run(\"Do they make laptops?\")"
   ]
  },
  {
   "cell_type": "code",
   "execution_count": 77,
   "metadata": {},
   "outputs": [
    {
     "data": {
      "text/plain": [
       "'Dell Computer Corporation was founded by Michael Dell in 1984.'"
      ]
     },
     "execution_count": 77,
     "metadata": {},
     "output_type": "execute_result"
    }
   ],
   "source": [
    "qa.run(\"Who founded Dell computer?\")"
   ]
  }
 ],
 "metadata": {
  "kernelspec": {
   "display_name": "Python 3",
   "language": "python",
   "name": "python3"
  },
  "language_info": {
   "codemirror_mode": {
    "name": "ipython",
    "version": 3
   },
   "file_extension": ".py",
   "mimetype": "text/x-python",
   "name": "python",
   "nbconvert_exporter": "python",
   "pygments_lexer": "ipython3",
   "version": "3.12.3"
  }
 },
 "nbformat": 4,
 "nbformat_minor": 2
}
